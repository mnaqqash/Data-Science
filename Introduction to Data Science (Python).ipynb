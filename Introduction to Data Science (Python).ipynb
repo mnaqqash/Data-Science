{
 "cells": [
  {
   "cell_type": "markdown",
   "metadata": {},
   "source": [
    "# Python Basics"
   ]
  },
  {
   "cell_type": "markdown",
   "metadata": {},
   "source": [
    "Python is a general-purpose interpreted, interactive, object-oriented, and high-level programming language. It was created by Guido van Rossum during 1985- 1990. Like Perl, Python source code is also available under the GNU General Public License (GPL). This tutorial gives enough understanding on Python programming language."
   ]
  },
  {
   "cell_type": "markdown",
   "metadata": {},
   "source": [
    "## Basic Syntax"
   ]
  },
  {
   "cell_type": "markdown",
   "metadata": {},
   "source": [
    "To print / output any value use  \" print() \" function .\n"
   ]
  },
  {
   "cell_type": "code",
   "execution_count": 1,
   "metadata": {},
   "outputs": [
    {
     "name": "stdout",
     "output_type": "stream",
     "text": [
      "Hello World!\n"
     ]
    }
   ],
   "source": [
    "print (\"Hello World!\")"
   ]
  },
  {
   "cell_type": "markdown",
   "metadata": {},
   "source": [
    "### Python Identifiers\n"
   ]
  },
  {
   "cell_type": "markdown",
   "metadata": {},
   "source": [
    "A Python identifier is a name used to identify a variable, function, class, module or other object. An identifier starts with a letter A to Z or a to z or an underscore (_) followed by zero or more letters, underscores and digits (0 to 9).\n",
    "Python does not allow punctuation characters such as @, $, and %\n",
    "within identifiers. Python is a case sensitive programming language. Thus, Manpower and manpower are two different identifiers in Python."
   ]
  },
  {
   "cell_type": "markdown",
   "metadata": {},
   "source": [
    "## Variable "
   ]
  },
  {
   "cell_type": "markdown",
   "metadata": {},
   "source": [
    "Variables are nothing but reserved memory locations to store values. This means that when you create a variable you reserve some space in memory.\n",
    "\n",
    "Based on the data type of a variable, the interpreter allocates memory and decides what can be stored in the reserved memory. Therefore, by assigning different data types to variables, you can store integers, decimals or characters in these variables."
   ]
  },
  {
   "cell_type": "code",
   "execution_count": 3,
   "metadata": {},
   "outputs": [
    {
     "name": "stdout",
     "output_type": "stream",
     "text": [
      "3.14\n",
      "Jacob\n",
      "100\n"
     ]
    }
   ],
   "source": [
    "pi = 3.14                  # A floating point\n",
    "name = \"Jacob\"           # A string type\n",
    "counter = 100              # A integer type\n",
    "\n",
    "print(pi)\n",
    "print(name)\n",
    "print(counter)"
   ]
  },
  {
   "cell_type": "markdown",
   "metadata": {},
   "source": [
    "If you want to check the data type of an given input, the used type() function.\n"
   ]
  },
  {
   "cell_type": "code",
   "execution_count": 7,
   "metadata": {},
   "outputs": [
    {
     "name": "stdout",
     "output_type": "stream",
     "text": [
      "<class 'float'>\n",
      "<class 'str'>\n",
      "<class 'int'>\n",
      "<class 'NoneType'>\n"
     ]
    }
   ],
   "source": [
    "print(type(pi))\n",
    "print(type(name))\n",
    "print(type(counter))\n",
    "print(type(None))"
   ]
  },
  {
   "cell_type": "markdown",
   "metadata": {},
   "source": [
    "### Slicing in String"
   ]
  },
  {
   "cell_type": "markdown",
   "metadata": {},
   "source": [
    "Strings in Python are identified as a contiguous set of characters represented in the quotation marks. Python allows for either pairs of single or double quotes. Subsets of strings can be taken using the slice operator ([ ] and [:] ) with indexes starting at 0 in the beginning of the string and working their way from -1 at the"
   ]
  },
  {
   "cell_type": "code",
   "execution_count": 10,
   "metadata": {},
   "outputs": [
    {
     "name": "stdout",
     "output_type": "stream",
     "text": [
      "Hello World!\n",
      "H\n",
      "!\n",
      "llo\n",
      "Hel\n",
      " World!\n",
      "Hello World!Hello World!\n",
      "Hello World! :) \n"
     ]
    }
   ],
   "source": [
    "string = \"Hello World!\"\n",
    "\n",
    "\n",
    "print (string)                # Complete string\n",
    "print (string[0])             # print out first letter of the string\n",
    "print (string[-1])            # print the first letter for the right side of the string\n",
    "print (string[2:5])           # Prints characters starting from 3rd to 5th\n",
    "print (string[:3])            # print  string ending to 2nd character\n",
    "print (string[5:])            #Prints string starting from 6th character\n",
    "print (string * 2)            # Prints string two times\n",
    "print (string + \" :) \")       # Prints concatenated string"
   ]
  },
  {
   "cell_type": "markdown",
   "metadata": {},
   "source": [
    "## Python Lists \n",
    "\n"
   ]
  },
  {
   "cell_type": "markdown",
   "metadata": {},
   "source": [
    "Lists are the most versatile of Python's compound data types. A list contains items separated by commas and enclosed within square brackets ([]). To some extent, lists are similar to arrays in C. One difference between them is that all the items belonging to a list can be of different data type."
   ]
  },
  {
   "cell_type": "code",
   "execution_count": 2,
   "metadata": {},
   "outputs": [
    {
     "name": "stdout",
     "output_type": "stream",
     "text": [
      "['Umar', 'Farooq', 3.14, 786]\n",
      "['a', 'b', 'c']\n"
     ]
    }
   ],
   "source": [
    "list_1 = ['Umar' , 'Farooq' , 3.14 , 786]\n",
    "list_2 = ['a' , 'b' , 'c']\n",
    "print (list_1)\n",
    "print (list_2)"
   ]
  },
  {
   "cell_type": "markdown",
   "metadata": {},
   "source": [
    "### slicing in list"
   ]
  },
  {
   "cell_type": "markdown",
   "metadata": {},
   "source": [
    "The values stored in a list can be accessed using the slice operator ([ ] and [:]) with indexes starting at 0 in the beginning of the list and working their way to end -1. The plus (+) sign is the list concatenation operator, and the asterisk (*) is the repetition operator. "
   ]
  },
  {
   "cell_type": "code",
   "execution_count": 14,
   "metadata": {},
   "outputs": [
    {
     "name": "stdout",
     "output_type": "stream",
     "text": [
      "['Umar', 'Farooq', 3.14, 786]\n",
      "Umar\n",
      "['Farooq', 3.14]\n",
      "[3.14, 786]\n",
      "['a', 'b', 'c', 'a', 'b', 'c']\n",
      "['Umar', 'Farooq', 3.14, 786, 'a', 'b', 'c']\n"
     ]
    }
   ],
   "source": [
    "print (list_1)          # Prints complete list\n",
    "print (list_1[0])       # Prints first element of the list\n",
    "print (list_1[1:3])     # Prints elements starting from 2nd till 4th \n",
    "print (list_1[2:])      # Prints elements starting from 3rd element\n",
    "print (list_2 * 2)      # Prints list two times\n",
    "print (list_1 + list_2) # Prints concatenated lists"
   ]
  },
  {
   "cell_type": "markdown",
   "metadata": {},
   "source": [
    "### List Basic Operations"
   ]
  },
  {
   "cell_type": "markdown",
   "metadata": {},
   "source": [
    "### Lenght\n",
    "Lenght of the list "
   ]
  },
  {
   "cell_type": "code",
   "execution_count": 3,
   "metadata": {},
   "outputs": [
    {
     "name": "stdout",
     "output_type": "stream",
     "text": [
      "4\n"
     ]
    }
   ],
   "source": [
    "print(len(list_1))"
   ]
  },
  {
   "cell_type": "markdown",
   "metadata": {},
   "source": [
    "### Concationation\n",
    "Concatinate more then two lists, by using \" + \" operation."
   ]
  },
  {
   "cell_type": "code",
   "execution_count": 4,
   "metadata": {},
   "outputs": [
    {
     "name": "stdout",
     "output_type": "stream",
     "text": [
      "['Umar', 'Farooq', 3.14, 786, 'a', 'b', 'c']\n"
     ]
    }
   ],
   "source": [
    "print (list_1 + list_2)"
   ]
  },
  {
   "cell_type": "markdown",
   "metadata": {},
   "source": [
    "### Repition\n",
    "Repeat the values in the list by using \" * \" sign.\n"
   ]
  },
  {
   "cell_type": "code",
   "execution_count": 5,
   "metadata": {},
   "outputs": [
    {
     "name": "stdout",
     "output_type": "stream",
     "text": [
      "['Umar', 'Farooq', 3.14, 786, 'Umar', 'Farooq', 3.14, 786]\n"
     ]
    }
   ],
   "source": [
    "print(list_1 * 2 )"
   ]
  },
  {
   "cell_type": "markdown",
   "metadata": {},
   "source": [
    "### Memebership\n",
    "Use the in operator to check if something is inside a list."
   ]
  },
  {
   "cell_type": "code",
   "execution_count": 6,
   "metadata": {},
   "outputs": [
    {
     "data": {
      "text/plain": [
       "True"
      ]
     },
     "execution_count": 6,
     "metadata": {},
     "output_type": "execute_result"
    }
   ],
   "source": [
    "'Umar' in list_1"
   ]
  },
  {
   "cell_type": "markdown",
   "metadata": {},
   "source": [
    "### Iteration"
   ]
  },
  {
   "cell_type": "code",
   "execution_count": 8,
   "metadata": {},
   "outputs": [
    {
     "name": "stdout",
     "output_type": "stream",
     "text": [
      "Umar\n",
      "Farooq\n",
      "3.14\n",
      "786\n"
     ]
    }
   ],
   "source": [
    "for item in list_1:\n",
    "    print (item)"
   ]
  },
  {
   "cell_type": "markdown",
   "metadata": {},
   "source": [
    "## Built-in List Functions & Methods"
   ]
  },
  {
   "cell_type": "markdown",
   "metadata": {},
   "source": [
    "### Functions"
   ]
  },
  {
   "cell_type": "code",
   "execution_count": 22,
   "metadata": {},
   "outputs": [
    {
     "name": "stdout",
     "output_type": "stream",
     "text": [
      "Maximum element in a list  3\n",
      "Minimum element in a list  1\n",
      "lenght of  list  3\n"
     ]
    }
   ],
   "source": [
    "list_3 = [1 , 2 , 3]\n",
    "list_4 = [5 , 6 , 7]\n",
    "print(\"Maximum element in a list \" , max(list_3))\n",
    "print(\"Minimum element in a list \" , min(list_3))\n",
    "print(\"lenght of  list \" , len(list_3))\n",
    "#print(\"Compare two list is \" , cmp(list_3 , list_4))"
   ]
  },
  {
   "cell_type": "markdown",
   "metadata": {},
   "source": [
    "To convert tuple into list by using sequence."
   ]
  },
  {
   "cell_type": "code",
   "execution_count": 1,
   "metadata": {},
   "outputs": [
    {
     "name": "stdout",
     "output_type": "stream",
     "text": [
      "List elements :  [123, 'xyz', 'zara', 'abc']\n"
     ]
    }
   ],
   "source": [
    "aTuple = (123, 'xyz', 'zara', 'abc')\n",
    "aList = list(aTuple)\n",
    "print (\"List elements : \", aList)"
   ]
  },
  {
   "cell_type": "markdown",
   "metadata": {},
   "source": [
    "### Methods"
   ]
  },
  {
   "cell_type": "code",
   "execution_count": 1,
   "metadata": {},
   "outputs": [
    {
     "name": "stdout",
     "output_type": "stream",
     "text": [
      "['Hello']\n"
     ]
    }
   ],
   "source": [
    "list_3 = []\n",
    "list_3.append(\"Hello\")\n",
    "print(list_3)"
   ]
  },
  {
   "cell_type": "markdown",
   "metadata": {},
   "source": [
    "Count that the given element is available in it or not."
   ]
  },
  {
   "cell_type": "code",
   "execution_count": 27,
   "metadata": {},
   "outputs": [
    {
     "name": "stdout",
     "output_type": "stream",
     "text": [
      "Count  1\n"
     ]
    }
   ],
   "source": [
    "print(\"Count \" , list_3.count(1))"
   ]
  },
  {
   "cell_type": "markdown",
   "metadata": {},
   "source": [
    "Extend the list by another list"
   ]
  },
  {
   "cell_type": "code",
   "execution_count": 28,
   "metadata": {},
   "outputs": [
    {
     "name": "stdout",
     "output_type": "stream",
     "text": [
      "[1, 2, 3, 'Naqqash', 'Shakir']\n"
     ]
    }
   ],
   "source": [
    "list_a = ['Naqqash' , \"Shakir\"]\n",
    "list_3.extend(list_a)\n",
    "print(list_3)"
   ]
  },
  {
   "cell_type": "markdown",
   "metadata": {},
   "source": [
    "Check the index of the given list."
   ]
  },
  {
   "cell_type": "code",
   "execution_count": 29,
   "metadata": {},
   "outputs": [
    {
     "name": "stdout",
     "output_type": "stream",
     "text": [
      "Index of Naqqash is  3\n"
     ]
    }
   ],
   "source": [
    "print(\"Index of Naqqash is \" , list_3.index('Naqqash'))"
   ]
  },
  {
   "cell_type": "markdown",
   "metadata": {},
   "source": [
    "Remove the instance in the list"
   ]
  },
  {
   "cell_type": "code",
   "execution_count": 33,
   "metadata": {},
   "outputs": [
    {
     "name": "stdout",
     "output_type": "stream",
     "text": [
      "Remove the Naqqash in the index is  [2, 3, 'Shakir']\n"
     ]
    }
   ],
   "source": [
    "list_3.remove(1)\n",
    "print(\"Remove the element in the index is \" , list_3)"
   ]
  },
  {
   "cell_type": "markdown",
   "metadata": {},
   "source": [
    "Reverse the list"
   ]
  },
  {
   "cell_type": "code",
   "execution_count": 34,
   "metadata": {},
   "outputs": [
    {
     "name": "stdout",
     "output_type": "stream",
     "text": [
      "Reverse the list is  ['Shakir', 3, 2]\n"
     ]
    }
   ],
   "source": [
    "list_3.reverse()\n",
    "print(\"Reverse the list is \" , list_3)"
   ]
  },
  {
   "cell_type": "markdown",
   "metadata": {},
   "source": [
    "Insert the element in the list"
   ]
  },
  {
   "cell_type": "code",
   "execution_count": 35,
   "metadata": {},
   "outputs": [
    {
     "name": "stdout",
     "output_type": "stream",
     "text": [
      "Insert in the list is  ['Shakir', 3, 2, 'M']\n"
     ]
    }
   ],
   "source": [
    "list_3.insert(5 , 'M')\n",
    "print(\"Insert in the list is \" , list_3)"
   ]
  },
  {
   "cell_type": "markdown",
   "metadata": {},
   "source": [
    "Sort the element in the list"
   ]
  },
  {
   "cell_type": "code",
   "execution_count": 38,
   "metadata": {},
   "outputs": [
    {
     "name": "stdout",
     "output_type": "stream",
     "text": [
      "Sort the element in the list is  [0, 1, 2, 3, 5]\n"
     ]
    }
   ],
   "source": [
    "list_b = [1 ,2 ,5 , 3 , 0]\n",
    "list_b.sort()\n",
    "print(\"Sort the element in the list is \" , list_b)"
   ]
  },
  {
   "cell_type": "markdown",
   "metadata": {},
   "source": [
    "\n",
    "split returns a list of all the words in a string, or a list split on a specific character."
   ]
  },
  {
   "cell_type": "code",
   "execution_count": 39,
   "metadata": {},
   "outputs": [
    {
     "name": "stdout",
     "output_type": "stream",
     "text": [
      "Christopher\n",
      "Brooks\n"
     ]
    }
   ],
   "source": [
    "firstname = 'Christopher Arthur Hansen Brooks'.split(' ')[0] # [0] selects the first element of the list\n",
    "lastname = 'Christopher Arthur Hansen Brooks'.split(' ')[-1] # [-1] selects the last element of the list\n",
    "print(firstname)\n",
    "print(lastname)"
   ]
  },
  {
   "cell_type": "markdown",
   "metadata": {},
   "source": [
    "## Python Tuples"
   ]
  },
  {
   "cell_type": "markdown",
   "metadata": {},
   "source": [
    "A tuple is another sequence data type that is similar to the list. A tuple consists of a number of values separated by commas. Unlike lists, however, tuples are enclosed within parentheses."
   ]
  },
  {
   "cell_type": "code",
   "execution_count": 16,
   "metadata": {},
   "outputs": [
    {
     "name": "stdout",
     "output_type": "stream",
     "text": [
      "('Umar', 'Farooq', 3.14, 786)\n",
      "('a', 'b', 'c')\n"
     ]
    }
   ],
   "source": [
    "tuple_1 = ('Umar' , 'Farooq' , 3.14 , 786)\n",
    "tuple_2 = ('a' , 'b' , 'c')\n",
    "\n",
    "print(tuple_1)\n",
    "print(tuple_2)"
   ]
  },
  {
   "cell_type": "markdown",
   "metadata": {},
   "source": [
    "### Slicing in tuples"
   ]
  },
  {
   "cell_type": "markdown",
   "metadata": {},
   "source": [
    "The main differences between lists and tuples are: Lists are enclosed in brackets ( [ ] ) and their elements and size can be changed, while tuples are enclosed in parentheses ( ( ) ) and cannot be updated. Tuples can be thought of as read-only lists. "
   ]
  },
  {
   "cell_type": "code",
   "execution_count": 17,
   "metadata": {},
   "outputs": [
    {
     "name": "stdout",
     "output_type": "stream",
     "text": [
      "('Umar', 'Farooq', 3.14, 786)\n",
      "Umar\n",
      "('Farooq', 3.14)\n",
      "(3.14, 786)\n",
      "('a', 'b', 'c', 'a', 'b', 'c')\n",
      "('Umar', 'Farooq', 3.14, 786, 'a', 'b', 'c')\n"
     ]
    }
   ],
   "source": [
    "print (tuple_1)           # Prints complete list\n",
    "print (tuple_1[0])        # Prints first element of the list\n",
    "print (tuple_1[1:3])      # Prints elements starting from 2nd till 3rd \n",
    "print (tuple_1[2:])       # Prints elements starting from 3rd element\n",
    "print (tuple_2 * 2)       # Prints list two times\n",
    "print (tuple_1 + tuple_2) # Prints concatenated lists"
   ]
  },
  {
   "cell_type": "markdown",
   "metadata": {},
   "source": [
    "#### Why we used list rather than tuples?\n"
   ]
  },
  {
   "cell_type": "markdown",
   "metadata": {},
   "source": [
    "1) Tuples are immutable data structue\n",
    "2) lists are mutable data structure\n",
    "\n",
    "The following code is invalid with tuple, because we attempted to update a tuple, which is not allowed"
   ]
  },
  {
   "cell_type": "code",
   "execution_count": 28,
   "metadata": {},
   "outputs": [],
   "source": [
    "tuple = ( 'abcd', 786 , 2.23, 'john', 70.2  )\n",
    "list = [ 'abcd', 786 , 2.23, 'john', 70.2  ]\n",
    "#tuple[2] = 1000    # Invalid syntax with tuple\n",
    "list[2] = 1000     # Valid syntax with list"
   ]
  },
  {
   "cell_type": "markdown",
   "metadata": {},
   "source": [
    "You can unpack a sequence into different variables:"
   ]
  },
  {
   "cell_type": "code",
   "execution_count": 59,
   "metadata": {},
   "outputs": [],
   "source": [
    "y = (\"Umar\" , \"Farooq\" , \"example@gmail.com\")\n",
    "fname , lname , email = y"
   ]
  },
  {
   "cell_type": "code",
   "execution_count": 60,
   "metadata": {},
   "outputs": [
    {
     "data": {
      "text/plain": [
       "'Umar'"
      ]
     },
     "execution_count": 60,
     "metadata": {},
     "output_type": "execute_result"
    }
   ],
   "source": [
    "fname"
   ]
  },
  {
   "cell_type": "code",
   "execution_count": 40,
   "metadata": {},
   "outputs": [
    {
     "name": "stdout",
     "output_type": "stream",
     "text": [
      "{'name': 'Umar', 'Dept': 'Computer Science', 'Semester': 7}\n"
     ]
    }
   ],
   "source": [
    "dict_1 = {'name' : 'Umar',\n",
    "          'Dept' : 'Computer Science',\n",
    "          'Semester': 7\n",
    "          }\n",
    "print(dict_1)"
   ]
  },
  {
   "cell_type": "code",
   "execution_count": 41,
   "metadata": {},
   "outputs": [
    {
     "data": {
      "text/plain": [
       "dict_keys(['name', 'Dept', 'Semester'])"
      ]
     },
     "execution_count": 41,
     "metadata": {},
     "output_type": "execute_result"
    }
   ],
   "source": [
    "dict_1.keys()"
   ]
  },
  {
   "cell_type": "code",
   "execution_count": 42,
   "metadata": {},
   "outputs": [
    {
     "data": {
      "text/plain": [
       "dict_values(['Umar', 'Computer Science', 7])"
      ]
     },
     "execution_count": 42,
     "metadata": {},
     "output_type": "execute_result"
    }
   ],
   "source": [
    "dict_1.values()"
   ]
  },
  {
   "cell_type": "code",
   "execution_count": 43,
   "metadata": {},
   "outputs": [
    {
     "data": {
      "text/plain": [
       "'Umar'"
      ]
     },
     "execution_count": 43,
     "metadata": {},
     "output_type": "execute_result"
    }
   ],
   "source": [
    "dict_1['name']"
   ]
  },
  {
   "cell_type": "markdown",
   "metadata": {},
   "source": [
    "\n",
    "Iterate over all of the keys:"
   ]
  },
  {
   "cell_type": "code",
   "execution_count": 44,
   "metadata": {},
   "outputs": [
    {
     "name": "stdout",
     "output_type": "stream",
     "text": [
      "Umar\n",
      "Computer Science\n",
      "7\n"
     ]
    }
   ],
   "source": [
    "for x in dict_1:\n",
    "    print(dict_1[x])"
   ]
  },
  {
   "cell_type": "markdown",
   "metadata": {},
   "source": [
    "Iterate over all of the Values:"
   ]
  },
  {
   "cell_type": "code",
   "execution_count": 46,
   "metadata": {},
   "outputs": [
    {
     "name": "stdout",
     "output_type": "stream",
     "text": [
      "Umar\n",
      "Computer Science\n",
      "7\n"
     ]
    }
   ],
   "source": [
    "for x in dict_1.values():\n",
    "    print(x)"
   ]
  },
  {
   "cell_type": "markdown",
   "metadata": {},
   "source": [
    "## Built-in Dictionary Functions & Methods"
   ]
  },
  {
   "cell_type": "markdown",
   "metadata": {},
   "source": [
    "### Function"
   ]
  },
  {
   "cell_type": "code",
   "execution_count": 50,
   "metadata": {},
   "outputs": [
    {
     "name": "stdout",
     "output_type": "stream",
     "text": [
      "3\n",
      "<class 'dict'>\n"
     ]
    }
   ],
   "source": [
    "print(len(dict_1))\n",
    "print(type(dict_1))"
   ]
  },
  {
   "cell_type": "markdown",
   "metadata": {},
   "source": [
    "### Methods"
   ]
  },
  {
   "cell_type": "code",
   "execution_count": 52,
   "metadata": {},
   "outputs": [
    {
     "name": "stdout",
     "output_type": "stream",
     "text": [
      "None\n"
     ]
    }
   ],
   "source": [
    "print(dict_1.clear())"
   ]
  },
  {
   "cell_type": "code",
   "execution_count": 57,
   "metadata": {},
   "outputs": [
    {
     "name": "stdout",
     "output_type": "stream",
     "text": [
      "{'Name': 'Naqqash', 'Age': 23, 'Degree': 'CE'}\n"
     ]
    }
   ],
   "source": [
    "dict_2 = { \"Name\" : \"Naqqash\",\n",
    "           \"Age\"  : 23,\n",
    "           \"Degree\": 'CE'\n",
    "          }\n",
    "dict_1 = dict_2.copy()\n",
    "print(dict_1)"
   ]
  },
  {
   "cell_type": "markdown",
   "metadata": {},
   "source": [
    "\n",
    "Python has a built in method for convenient string formatting."
   ]
  },
  {
   "cell_type": "code",
   "execution_count": 58,
   "metadata": {},
   "outputs": [
    {
     "name": "stdout",
     "output_type": "stream",
     "text": [
      "Chris bought 4 item(s) at a price of 3.24 each for a total of 12.96\n"
     ]
    }
   ],
   "source": [
    "sales_record = {\n",
    "'price': 3.24,\n",
    "'num_items': 4,\n",
    "'person': 'Chris'}\n",
    "\n",
    "sales_statement = '{} bought {} item(s) at a price of {} each for a total of {}'\n",
    "\n",
    "print(sales_statement.format(sales_record['person'],\n",
    "                             sales_record['num_items'],\n",
    "                             sales_record['price'],\n",
    "                             sales_record['num_items']*sales_record['price']))\n"
   ]
  },
  {
   "cell_type": "markdown",
   "metadata": {},
   "source": [
    "## Operators in Python "
   ]
  },
  {
   "cell_type": "markdown",
   "metadata": {},
   "source": [
    "Operators are the constructs which can manipulate the value of operands.\n",
    "\n",
    "Python language supports the following types of operators.\n",
    "\n",
    "- Arithmetic Operators\n",
    "- Comparison (Relational) Operators\n",
    "- Assignment Operators\n",
    "- Logical Operators\n",
    "- Bitwise Operators\n",
    "- Membership Operators\n",
    "- Identity Operators"
   ]
  },
  {
   "cell_type": "markdown",
   "metadata": {},
   "source": [
    "### Arithmetic Operator"
   ]
  },
  {
   "cell_type": "code",
   "execution_count": 6,
   "metadata": {},
   "outputs": [
    {
     "name": "stdout",
     "output_type": "stream",
     "text": [
      "Addition of users is  15\n",
      "Subtraction of users is -5\n",
      "Multiplication of users is 50\n",
      "Division of users is 15\n",
      "Modulus of users is 5\n",
      "Exponent of users is 9765625\n",
      "floor Division of users is 0\n"
     ]
    }
   ],
   "source": [
    "user_1 = 5\n",
    "user_2 = 10\n",
    "\n",
    "add = user_1 + user_2\n",
    "print('Addition of users is ' , add )\n",
    "\n",
    "sub = user_1 - user_2\n",
    "print('Subtraction of users is ' + str(sub))\n",
    "\n",
    "mul = user_1 * user_2\n",
    "print('Multiplication of users is ' + str(mul))\n",
    "\n",
    "div = user_1 + user_2\n",
    "print('Division of users is ' + str(div))\n",
    "\n",
    "mod = user_1 % user_2\n",
    "print('Modulus of users is ' + str(mod))\n",
    "\n",
    "exp = user_1 ** user_2\n",
    "print('Exponent of users is ' + str(exp))\n",
    "\n",
    "floor = user_1 // user_2\n",
    "print('floor Division of users is ' + str(floor))\n"
   ]
  },
  {
   "cell_type": "markdown",
   "metadata": {},
   "source": [
    "### Comparison (Relational) Operators"
   ]
  },
  {
   "cell_type": "markdown",
   "metadata": {},
   "source": [
    "These operators compare the values on either sides of them and decide the relation among them. They are also called Relational operators."
   ]
  },
  {
   "cell_type": "code",
   "execution_count": 15,
   "metadata": {},
   "outputs": [
    {
     "name": "stdout",
     "output_type": "stream",
     "text": [
      "User_1 is not equal to User_2\n",
      "User_1 is not equal to User_2\n",
      "User_1 is not greater than to User_2\n",
      "User_1 is less than to User_2\n",
      "User_1 is not greater than equal to User_2\n",
      "User_1 is less than equal to User_2\n"
     ]
    }
   ],
   "source": [
    "user_1 = 5\n",
    "user_2 = 10\n",
    "\n",
    "if(user_1 == user_2):\n",
    "    print(\"User_1 is equal to User_2\")\n",
    "else:\n",
    "    print(\"User_1 is not equal to User_2\")\n",
    "    \n",
    "\n",
    "if(user_1 != user_2):\n",
    "    print(\"User_1 is not equal to User_2\")\n",
    "else:\n",
    "    print(\"User_1 is equal to User_2\")\n",
    "    \n",
    "    \n",
    "if(user_1 > user_2):\n",
    "    print(\"User_1 is greater than to User_2\")\n",
    "else:\n",
    "    print(\"User_1 is not greater than to User_2\")\n",
    "    \n",
    "if(user_1 < user_2):\n",
    "    print(\"User_1 is less than to User_2\")\n",
    "else:\n",
    "    print(\"User_1 is not less than to User_2\")\n",
    "\n",
    "if(user_1 >= user_2):\n",
    "    print(\"User_1 is greater than equal to User_2\")\n",
    "else:\n",
    "    print(\"User_1 is not greater than equal to User_2\")\n",
    "\n",
    "    \n",
    "if(user_1 <= user_2):\n",
    "    print(\"User_1 is less than equal to User_2\")\n",
    "else:\n",
    "    print(\"User_1 is not less than  equal to User_2\")\n",
    "    \n"
   ]
  },
  {
   "cell_type": "markdown",
   "metadata": {},
   "source": [
    "### Assignment Operators"
   ]
  },
  {
   "cell_type": "code",
   "execution_count": 16,
   "metadata": {},
   "outputs": [
    {
     "name": "stdout",
     "output_type": "stream",
     "text": [
      "Line 1 - Value of c is  31\n",
      "Line 2 - Value of c is  52\n",
      "Line 3 - Value of c is  1092\n",
      "Line 4 - Value of c is  52.0\n",
      "Line 5 - Value of c is  2\n",
      "Line 6 - Value of c is  2097152\n",
      "Line 7 - Value of c is  99864\n"
     ]
    }
   ],
   "source": [
    "a = 21\n",
    "b = 10\n",
    "c = 0\n",
    "\n",
    "c = a + b\n",
    "print (\"Line 1 - Value of c is \", c)\n",
    "\n",
    "c += a\n",
    "print (\"Line 2 - Value of c is \", c) \n",
    "\n",
    "c *= a\n",
    "print (\"Line 3 - Value of c is \", c)\n",
    "\n",
    "c /= a \n",
    "print (\"Line 4 - Value of c is \", c) \n",
    "\n",
    "c  = 2\n",
    "c %= a\n",
    "print (\"Line 5 - Value of c is \", c)\n",
    "\n",
    "c **= a\n",
    "print (\"Line 6 - Value of c is \", c)\n",
    "\n",
    "c //= a\n",
    "print (\"Line 7 - Value of c is \", c)"
   ]
  },
  {
   "cell_type": "markdown",
   "metadata": {},
   "source": [
    "### Bitwise Operator"
   ]
  },
  {
   "cell_type": "code",
   "execution_count": 18,
   "metadata": {},
   "outputs": [
    {
     "name": "stdout",
     "output_type": "stream",
     "text": [
      "Line 1 - Value of c is  12\n",
      "Line 2 - Value of c is  61\n",
      "Line 3 - Value of c is  49\n",
      "Line 4 - Value of c is  -61\n",
      "Line 5 - Value of c is  240\n",
      "Line 6 - Value of c is  15\n"
     ]
    }
   ],
   "source": [
    "a = 60            # 60 = 0011 1100 \n",
    "b = 13            # 13 = 0000 1101 \n",
    "c = 0\n",
    "\n",
    "c = a & b;        # 12 = 0000 1100\n",
    "print (\"Line 1 - Value of c is \", c)\n",
    "\n",
    "c = a | b;        # 61 = 0011 1101 \n",
    "print (\"Line 2 - Value of c is \", c)\n",
    "\n",
    "c = a ^ b;        # 49 = 0011 0001\n",
    "print (\"Line 3 - Value of c is \", c)\n",
    "\n",
    "c = ~a;           # -61 = 1100 0011\n",
    "print (\"Line 4 - Value of c is \", c)\n",
    "\n",
    "c = a << 2;       # 240 = 1111 0000\n",
    "print (\"Line 5 - Value of c is \", c)\n",
    "\n",
    "c = a >> 2;       # 15 = 0000 1111\n",
    "print (\"Line 6 - Value of c is \", c)"
   ]
  },
  {
   "cell_type": "markdown",
   "metadata": {},
   "source": [
    "### Membership Operator"
   ]
  },
  {
   "cell_type": "code",
   "execution_count": 19,
   "metadata": {},
   "outputs": [
    {
     "name": "stdout",
     "output_type": "stream",
     "text": [
      "Line 1 - a is not available in the given list\n",
      "Line 2 - b is not available in the given list\n",
      "Line 3 - a is available in the given list\n"
     ]
    }
   ],
   "source": [
    "a = 10\n",
    "b = 20\n",
    "list = [1, 2, 3, 4, 5 ];\n",
    "\n",
    "if ( a in list ):\n",
    "   print (\"Line 1 - a is available in the given list\")\n",
    "else:\n",
    "   print (\"Line 1 - a is not available in the given list\")\n",
    "\n",
    "if ( b not in list ):\n",
    "   print (\"Line 2 - b is not available in the given list\")\n",
    "else:\n",
    "   print (\"Line 2 - b is available in the given list\")\n",
    "\n",
    "a = 2\n",
    "if ( a in list ):\n",
    "   print (\"Line 3 - a is available in the given list\")\n",
    "else:\n",
    "   print (\"Line 3 - a is not available in the given list\")"
   ]
  },
  {
   "cell_type": "markdown",
   "metadata": {},
   "source": [
    "### Identity Operator"
   ]
  },
  {
   "cell_type": "code",
   "execution_count": 21,
   "metadata": {},
   "outputs": [
    {
     "name": "stdout",
     "output_type": "stream",
     "text": [
      "Line 1 - a and b have same identity\n",
      "Line 2 - a and b have same identity\n",
      "Line 3 - a and b do not have same identity\n",
      "Line 4 - a and b do not have same identity\n"
     ]
    }
   ],
   "source": [
    "a = 20\n",
    "b = 20\n",
    "\n",
    "if ( a is b ):\n",
    "   print (\"Line 1 - a and b have same identity\")\n",
    "else:\n",
    "   print (\"Line 1 - a and b do not have same identity\")\n",
    "\n",
    "if ( id(a) == id(b) ):\n",
    "   print (\"Line 2 - a and b have same identity\")\n",
    "else:\n",
    "   print (\"Line 2 - a and b do not have same identity\")\n",
    "\n",
    "b = 30\n",
    "if ( a is b ):\n",
    "   print (\"Line 3 - a and b have same identity\")\n",
    "else:\n",
    "   print (\"Line 3 - a and b do not have same identity\")\n",
    "\n",
    "if ( a is not b ):\n",
    "   print  (\"Line 4 - a and b do not have same identity\")\n",
    "else:\n",
    "   print (\"Line 4 - a and b have same identity\")"
   ]
  },
  {
   "cell_type": "markdown",
   "metadata": {},
   "source": [
    "### Operators Precedence"
   ]
  },
  {
   "cell_type": "markdown",
   "metadata": {},
   "source": [
    "Operator precedence affects how an expression is evaluated.\n",
    "\n",
    "For example, x = 7 + 3 * 2; here, x is assigned 13, not 20 because operator * has higher precedence than +, so it first multiplies 3*2 and then adds into 7."
   ]
  },
  {
   "cell_type": "code",
   "execution_count": 23,
   "metadata": {},
   "outputs": [
    {
     "name": "stdout",
     "output_type": "stream",
     "text": [
      "Value of (a + b) * c / d is  90.0\n",
      "Value of ((a + b) * c) / d is  90.0\n",
      "Value of (a + b) * (c / d) is  90.0\n",
      "Value of a + (b * c) / d is  50.0\n"
     ]
    }
   ],
   "source": [
    "a = 20\n",
    "b = 10\n",
    "c = 15\n",
    "d = 5\n",
    "e = 0\n",
    "\n",
    "e = (a + b) * c / d       #( 30 * 15 ) / 5\n",
    "print (\"Value of (a + b) * c / d is \",  e)\n",
    "\n",
    "e = ((a + b) * c) / d     # (30 * 15 ) / 5\n",
    "print (\"Value of ((a + b) * c) / d is \",  e)\n",
    "\n",
    "e = (a + b) * (c / d);    # (30) * (15/5)\n",
    "print (\"Value of (a + b) * (c / d) is \",  e)\n",
    "\n",
    "e = a + (b * c) / d;      #  20 + (150/5)\n",
    "print (\"Value of a + (b * c) / d is \",  e)"
   ]
  },
  {
   "cell_type": "markdown",
   "metadata": {},
   "source": [
    "## Decision Making"
   ]
  },
  {
   "cell_type": "markdown",
   "metadata": {},
   "source": [
    "Decision structures evaluate multiple expressions which produce TRUE or FALSE as outcome. You need to determine which action to take and which statements to execute if outcome is TRUE or FALSE otherwise.\n"
   ]
  },
  {
   "attachments": {
    "image.png": {
     "image/png": "[encoded data removed]"
    }
   },
   "cell_type": "markdown",
   "metadata": {},
   "source": [
    "![image.png](attachment:image.png)"
   ]
  },
  {
   "cell_type": "markdown",
   "metadata": {},
   "source": [
    "Python programming language assumes any non-zero and non-null values as TRUE, and if it is either zero or null, then it is assumed as FALSE value."
   ]
  },
  {
   "cell_type": "code",
   "execution_count": 26,
   "metadata": {},
   "outputs": [
    {
     "name": "stdout",
     "output_type": "stream",
     "text": [
      "Umar\n"
     ]
    }
   ],
   "source": [
    "var = 'Umar'\n",
    "\n",
    "if(var == 'Umar'):\n",
    "    print(\"Umar\")\n",
    "else:\n",
    "    print(\"Check expression\")"
   ]
  },
  {
   "cell_type": "code",
   "execution_count": 28,
   "metadata": {},
   "outputs": [
    {
     "name": "stdout",
     "output_type": "stream",
     "text": [
      "Expression value is less than 200\n",
      "Which is 100\n",
      "Good bye!\n"
     ]
    }
   ],
   "source": [
    "var = 100\n",
    "if var < 200:\n",
    "    print (\"Expression value is less than 200\")\n",
    "    if var == 150:\n",
    "        print (\"Which is 150\")\n",
    "    elif var == 100:\n",
    "            print (\"Which is 100\")\n",
    "    elif var == 50:\n",
    "                print (\"Which is 50\")\n",
    "    elif var < 50:\n",
    "                    print (\"Expression value is less than 50\")\n",
    "    else:\n",
    "                        print (\"Could not find true expression\")\n",
    "\n",
    "print (\"Good bye!\")"
   ]
  },
  {
   "cell_type": "markdown",
   "metadata": {},
   "source": [
    "## Functions"
   ]
  },
  {
   "cell_type": "markdown",
   "metadata": {},
   "source": [
    "A function is a block of organized, reusable code that is used to perform a single, related action. Functions provide better modularity for your application and a high degree of code reusing."
   ]
  },
  {
   "cell_type": "code",
   "execution_count": 2,
   "metadata": {},
   "outputs": [
    {
     "name": "stdout",
     "output_type": "stream",
     "text": [
      "Defining the Function\n"
     ]
    }
   ],
   "source": [
    "def func_name(str):\n",
    "    print (str)\n",
    "    return;\n",
    "func_name(\"Defining the Function\")"
   ]
  },
  {
   "cell_type": "markdown",
   "metadata": {},
   "source": [
    "#### Functions that perform arithmetic Operations"
   ]
  },
  {
   "cell_type": "code",
   "execution_count": 11,
   "metadata": {},
   "outputs": [
    {
     "name": "stdout",
     "output_type": "stream",
     "text": [
      "Addition =  8\n",
      "Subtraction =  -2\n",
      "Multiplication =  15\n"
     ]
    }
   ],
   "source": [
    "def add_num(a , b):\n",
    "    return a + b\n",
    "\n",
    "\n",
    "def sub_num(a , b):\n",
    "     return a - b\n",
    "    \n",
    "        \n",
    "def mul(a , b):\n",
    "     return a * b\n",
    "    \n",
    "print(\"Addition = \" ,add_num(3 , 5))\n",
    "print(\"Subtraction = \" , sub_num ( 3 , 5))\n",
    "print(\"Multiplication = \" , mul(3 , 5))"
   ]
  },
  {
   "cell_type": "markdown",
   "metadata": {},
   "source": [
    "add_numbers updated to take an optional 3rd parameter. Using print allows printing of multiple expressions within a single cell."
   ]
  },
  {
   "cell_type": "code",
   "execution_count": 13,
   "metadata": {},
   "outputs": [
    {
     "name": "stdout",
     "output_type": "stream",
     "text": [
      "Addition of two elemets is  8\n",
      "Addition of three elemets is  14\n"
     ]
    }
   ],
   "source": [
    "def add_num(a , b , c = None):\n",
    "    if(c == None):\n",
    "        return a + b\n",
    "    else:\n",
    "        return a + b + c\n",
    "print(\"Addition of two elemets is \" , add_num(3 , 5)) \n",
    "print(\"Addition of three elemets is \" , add_num(3 , 5 , 6)) "
   ]
  },
  {
   "cell_type": "markdown",
   "metadata": {},
   "source": [
    "add_numbers updated to take an optional flag parameter."
   ]
  },
  {
   "cell_type": "code",
   "execution_count": 18,
   "metadata": {},
   "outputs": [
    {
     "name": "stdout",
     "output_type": "stream",
     "text": [
      "8\n"
     ]
    }
   ],
   "source": [
    "def add_num(a , b , c = None , flag = False):\n",
    "    if(c == None):\n",
    "        return a + b\n",
    "    else:\n",
    "        return a + b +c\n",
    "print(add_num(3 , 5 , flag = True))"
   ]
  },
  {
   "cell_type": "markdown",
   "metadata": {},
   "source": [
    "Assign function add_numbers to variable a."
   ]
  },
  {
   "cell_type": "code",
   "execution_count": 19,
   "metadata": {},
   "outputs": [
    {
     "name": "stdout",
     "output_type": "stream",
     "text": [
      "8\n"
     ]
    }
   ],
   "source": [
    "def add_num(a , b):\n",
    "    return a + b\n",
    "a = add_num(3 , 5)\n",
    "print(a)"
   ]
  },
  {
   "cell_type": "markdown",
   "metadata": {},
   "source": [
    "## Python Date & Time"
   ]
  },
  {
   "cell_type": "markdown",
   "metadata": {},
   "source": [
    "A Python program can handle date and time in several ways. Converting between date formats is a common chore for computers. Python's time and calendar modules help track dates and times.\n",
    "\n",
    "\n",
    "<b> What is Tick? </b> \n",
    "\n",
    "Time intervals are floating-point numbers in units of seconds. Particular instants in time are expressed in seconds since 12:00am, January 1, 1970(epoch).\n",
    "\n",
    "There is a popular time module available in Python which provides functions for working with times, and for converting between representations. The function time.time() returns the current system time in ticks since 12:00am, January 1, 1970(epoch).\n"
   ]
  },
  {
   "cell_type": "code",
   "execution_count": 20,
   "metadata": {},
   "outputs": [],
   "source": [
    "import datetime as dt\n",
    "import time as tm"
   ]
  },
  {
   "cell_type": "markdown",
   "metadata": {},
   "source": [
    "time returns the current time in seconds since the Epoch. (January 1st, 1970)"
   ]
  },
  {
   "cell_type": "code",
   "execution_count": 22,
   "metadata": {},
   "outputs": [
    {
     "name": "stdout",
     "output_type": "stream",
     "text": [
      "Number of ticks since 12:00am, January 1, 1970: 1530729317.2253928\n"
     ]
    }
   ],
   "source": [
    "ticks = tm.time()\n",
    "print (\"Number of ticks since 12:00am, January 1, 1970:\", ticks)"
   ]
  },
  {
   "cell_type": "markdown",
   "metadata": {},
   "source": [
    "Convert the timestamp to datetime."
   ]
  },
  {
   "cell_type": "code",
   "execution_count": 23,
   "metadata": {},
   "outputs": [
    {
     "name": "stdout",
     "output_type": "stream",
     "text": [
      "Date time 2018-07-04 23:35:17.225393\n"
     ]
    }
   ],
   "source": [
    "dtnow = dt.datetime.fromtimestamp(ticks)\n",
    "print(\"Date time\" , dtnow)"
   ]
  },
  {
   "cell_type": "markdown",
   "metadata": {},
   "source": [
    "Handy datetime attributes:"
   ]
  },
  {
   "cell_type": "code",
   "execution_count": 30,
   "metadata": {},
   "outputs": [
    {
     "data": {
      "text/plain": [
       "(2018, 7, 4, 23, 35, 17)"
      ]
     },
     "execution_count": 30,
     "metadata": {},
     "output_type": "execute_result"
    }
   ],
   "source": [
    "dtnow.year , dtnow.month , dtnow.day , dtnow.hour , dtnow.minute , dtnow.second"
   ]
  },
  {
   "cell_type": "markdown",
   "metadata": {},
   "source": [
    "\n",
    "timedelta is a duration expressing the difference between two dates."
   ]
  },
  {
   "cell_type": "code",
   "execution_count": 31,
   "metadata": {},
   "outputs": [
    {
     "data": {
      "text/plain": [
       "datetime.timedelta(100)"
      ]
     },
     "execution_count": 31,
     "metadata": {},
     "output_type": "execute_result"
    }
   ],
   "source": [
    "delta = dt.timedelta(days = 100) # create a timedelta of 100 days\n",
    "delta"
   ]
  },
  {
   "cell_type": "code",
   "execution_count": 32,
   "metadata": {},
   "outputs": [
    {
     "data": {
      "text/plain": [
       "datetime.date(2018, 7, 4)"
      ]
     },
     "execution_count": 32,
     "metadata": {},
     "output_type": "execute_result"
    }
   ],
   "source": [
    "today = dt.date.today()\n",
    "today"
   ]
  },
  {
   "cell_type": "code",
   "execution_count": 33,
   "metadata": {},
   "outputs": [
    {
     "data": {
      "text/plain": [
       "datetime.date(2018, 3, 26)"
      ]
     },
     "execution_count": 33,
     "metadata": {},
     "output_type": "execute_result"
    }
   ],
   "source": [
    "today - delta   # date 100 days ago"
   ]
  },
  {
   "cell_type": "code",
   "execution_count": 35,
   "metadata": {},
   "outputs": [
    {
     "data": {
      "text/plain": [
       "True"
      ]
     },
     "execution_count": 35,
     "metadata": {},
     "output_type": "execute_result"
    }
   ],
   "source": [
    "today > today - delta"
   ]
  },
  {
   "cell_type": "code",
   "execution_count": 36,
   "metadata": {},
   "outputs": [
    {
     "name": "stdout",
     "output_type": "stream",
     "text": [
      "   December 2018\n",
      "Mo Tu We Th Fr Sa Su\n",
      "                1  2\n",
      " 3  4  5  6  7  8  9\n",
      "10 11 12 13 14 15 16\n",
      "17 18 19 20 21 22 23\n",
      "24 25 26 27 28 29 30\n",
      "31\n",
      "\n"
     ]
    }
   ],
   "source": [
    "import calendar\n",
    "cal = calendar.month(2018 , 12)\n",
    "print(cal)"
   ]
  },
  {
   "cell_type": "markdown",
   "metadata": {},
   "source": [
    "## Python Loops"
   ]
  },
  {
   "attachments": {
    "image.png": {
     "image/png": "[encoded data removed]"
    }
   },
   "cell_type": "markdown",
   "metadata": {},
   "source": [
    "In general, statements are executed sequentially: The first statement in a function is executed first, followed by the second, and so on. There may be a situation when you need to execute a block of code several number of times.\n",
    "\n",
    "Programming languages provide various control structures that allow for more complicated execution paths.\n",
    "\n",
    "A loop statement allows us to execute a statement or group of statements multiple times. The following diagram illustrates a loop statement −\n",
    "\n",
    "![image.png](attachment:image.png)"
   ]
  },
  {
   "cell_type": "markdown",
   "metadata": {},
   "source": [
    "#### While loop"
   ]
  },
  {
   "attachments": {
    "image.png": {
     "image/png": "[encoded data removed]"
    }
   },
   "cell_type": "markdown",
   "metadata": {},
   "source": [
    "A while loop statement in Python programming language repeatedly executes a target statement as long as a given condition is true.\n",
    "\n",
    "![image.png](attachment:image.png)"
   ]
  },
  {
   "cell_type": "code",
   "execution_count": 37,
   "metadata": {},
   "outputs": [
    {
     "name": "stdout",
     "output_type": "stream",
     "text": [
      "The count is :  0\n",
      "The count is :  1\n",
      "The count is :  2\n",
      "The count is :  3\n",
      "The count is :  4\n",
      "The count is :  5\n",
      "The count is :  6\n",
      "The count is :  7\n",
      "The count is :  8\n",
      "Good by !\n"
     ]
    }
   ],
   "source": [
    "count = 0\n",
    "while (count < 9):\n",
    "    print (\"The count is : \" , count)\n",
    "    count = count + 1\n",
    "print (\"Good by !\")"
   ]
  },
  {
   "cell_type": "code",
   "execution_count": 43,
   "metadata": {},
   "outputs": [
    {
     "name": "stdout",
     "output_type": "stream",
     "text": [
      "0  is less than 5\n",
      "1  is less than 5\n",
      "2  is less than 5\n",
      "3  is less than 5\n",
      "4  is less than 5\n",
      "5  is greater than 5\n"
     ]
    }
   ],
   "source": [
    "count = 0\n",
    "while (count < 5):\n",
    "    print(count , \" is less than 5\" )\n",
    "    count = count + 1\n",
    "else:\n",
    "    print(count , \" is greater than 5\")"
   ]
  },
  {
   "attachments": {
    "image.png": {
     "image/png": "[encoded data removed]"
    }
   },
   "cell_type": "markdown",
   "metadata": {},
   "source": [
    "### For Loop\n",
    "\n",
    "\n",
    "If a sequence contains an expression list, it is evaluated first. Then, the first item in the sequence is assigned to the iterating variable iterating_var. Next, the statements block is executed. Each item in the list is assigned to iterating_var, and the statement(s) block is executed until the entire sequence is exhausted.\n",
    "\n",
    "![image.png](attachment:image.png)"
   ]
  },
  {
   "cell_type": "code",
   "execution_count": 49,
   "metadata": {},
   "outputs": [
    {
     "name": "stdout",
     "output_type": "stream",
     "text": [
      "Letter in python is : P\n",
      "Letter in python is : y\n",
      "Letter in python is : t\n",
      "Letter in python is : h\n",
      "Letter in python is : o\n",
      "Letter in python is : n\n",
      "Fruits :  Apple\n",
      "Fruits :  Banana\n",
      "Fruits :  Mango\n"
     ]
    }
   ],
   "source": [
    "for letter in \"Python\":\n",
    "    print (\"Letter in python is :\" , letter)\n",
    "\n",
    "fruits = ['Apple' , 'Banana' , 'Mango']\n",
    "for fruit in fruits:\n",
    "    print(\"Fruits : \" , fruit)"
   ]
  },
  {
   "cell_type": "markdown",
   "metadata": {},
   "source": [
    "Using Else statement using loop"
   ]
  },
  {
   "cell_type": "code",
   "execution_count": 62,
   "metadata": {},
   "outputs": [
    {
     "name": "stdout",
     "output_type": "stream",
     "text": [
      "Enter lower range: 5\n",
      "Enter upper range: 10\n",
      "Prime numbers between 5 and 10 are:\n",
      "prime number is  5\n",
      "prime number is  5\n",
      "prime number is  5\n",
      "prime number is  7\n",
      "prime number is  7\n",
      "prime number is  7\n",
      "prime number is  7\n",
      "prime number is  7\n",
      "prime number is  9\n"
     ]
    }
   ],
   "source": [
    "lower = int(input(\"Enter lower range: \"))\n",
    "upper = int(input(\"Enter upper range: \"))\n",
    "print(\"Prime numbers between\",lower,\"and\",upper,\"are:\")\n",
    "for num in range(lower,upper + 1):\n",
    "    for i in range(2,num):\n",
    "        if (num % i) == 0:\n",
    "            break\n",
    "        else:\n",
    "            print ('prime number is ' , num)\n"
   ]
  },
  {
   "cell_type": "markdown",
   "metadata": {},
   "source": [
    "## Nested Loop"
   ]
  },
  {
   "cell_type": "code",
   "execution_count": 67,
   "metadata": {},
   "outputs": [
    {
     "name": "stdout",
     "output_type": "stream",
     "text": [
      "2 prime\n",
      "3 prime\n",
      "5 prime\n",
      "7 prime\n",
      "11 prime\n",
      "13 prime\n",
      "17 prime\n",
      "19 prime\n",
      "23 prime\n",
      "29 prime\n",
      "31 prime\n",
      "37 prime\n",
      "41 prime\n",
      "43 prime\n",
      "47 prime\n",
      "53 prime\n",
      "59 prime\n",
      "61 prime\n",
      "67 prime\n",
      "71 prime\n",
      "73 prime\n",
      "79 prime\n",
      "83 prime\n",
      "89 prime\n",
      "97 prime\n",
      "Good By\n"
     ]
    }
   ],
   "source": [
    "i = 2\n",
    "while(i < 100):\n",
    "    j = 2\n",
    "    while(j <= (i / j) ):\n",
    "        if not(i % j):\n",
    "            break\n",
    "        j =j + 1\n",
    "    if(j > i/j):print(i , \"prime\")\n",
    "    i = i + 1\n",
    "print(\"Good By\")\n",
    "        "
   ]
  },
  {
   "cell_type": "markdown",
   "metadata": {},
   "source": [
    "### Lambda and List Comprehensions"
   ]
  },
  {
   "cell_type": "markdown",
   "metadata": {},
   "source": [
    "\n",
    "Lambdas are one line functions. They are also known as anonymous functions in some other languages. You might want to use lambdas when you don’t want to use a function twice in a program. They are just like normal functions and even behave like them."
   ]
  },
  {
   "cell_type": "code",
   "execution_count": 1,
   "metadata": {},
   "outputs": [],
   "source": [
    "my_function = lambda a , b , c: a + b \n"
   ]
  },
  {
   "cell_type": "code",
   "execution_count": 3,
   "metadata": {},
   "outputs": [
    {
     "data": {
      "text/plain": [
       "8"
      ]
     },
     "execution_count": 3,
     "metadata": {},
     "output_type": "execute_result"
    }
   ],
   "source": [
    "my_function(3 , 5 , 1)"
   ]
  },
  {
   "cell_type": "markdown",
   "metadata": {},
   "source": [
    "Let's iterate from 0 to 999 and return the even numbers."
   ]
  },
  {
   "cell_type": "code",
   "execution_count": 7,
   "metadata": {},
   "outputs": [
    {
     "name": "stdout",
     "output_type": "stream",
     "text": [
      "[0, 2, 4, 6, 8, 10, 12, 14, 16, 18, 20, 22, 24, 26, 28, 30, 32, 34, 36, 38, 40, 42, 44, 46, 48, 50, 52, 54, 56, 58, 60, 62, 64, 66, 68, 70, 72, 74, 76, 78, 80, 82, 84, 86, 88, 90, 92, 94, 96, 98, 100, 102, 104, 106, 108, 110, 112, 114, 116, 118, 120, 122, 124, 126, 128, 130, 132, 134, 136, 138, 140, 142, 144, 146, 148, 150, 152, 154, 156, 158, 160, 162, 164, 166, 168, 170, 172, 174, 176, 178, 180, 182, 184, 186, 188, 190, 192, 194, 196, 198, 200, 202, 204, 206, 208, 210, 212, 214, 216, 218, 220, 222, 224, 226, 228, 230, 232, 234, 236, 238, 240, 242, 244, 246, 248, 250, 252, 254, 256, 258, 260, 262, 264, 266, 268, 270, 272, 274, 276, 278, 280, 282, 284, 286, 288, 290, 292, 294, 296, 298, 300, 302, 304, 306, 308, 310, 312, 314, 316, 318, 320, 322, 324, 326, 328, 330, 332, 334, 336, 338, 340, 342, 344, 346, 348, 350, 352, 354, 356, 358, 360, 362, 364, 366, 368, 370, 372, 374, 376, 378, 380, 382, 384, 386, 388, 390, 392, 394, 396, 398, 400, 402, 404, 406, 408, 410, 412, 414, 416, 418, 420, 422, 424, 426, 428, 430, 432, 434, 436, 438, 440, 442, 444, 446, 448, 450, 452, 454, 456, 458, 460, 462, 464, 466, 468, 470, 472, 474, 476, 478, 480, 482, 484, 486, 488, 490, 492, 494, 496, 498, 500, 502, 504, 506, 508, 510, 512, 514, 516, 518, 520, 522, 524, 526, 528, 530, 532, 534, 536, 538, 540, 542, 544, 546, 548, 550, 552, 554, 556, 558, 560, 562, 564, 566, 568, 570, 572, 574, 576, 578, 580, 582, 584, 586, 588, 590, 592, 594, 596, 598, 600, 602, 604, 606, 608, 610, 612, 614, 616, 618, 620, 622, 624, 626, 628, 630, 632, 634, 636, 638, 640, 642, 644, 646, 648, 650, 652, 654, 656, 658, 660, 662, 664, 666, 668, 670, 672, 674, 676, 678, 680, 682, 684, 686, 688, 690, 692, 694, 696, 698, 700, 702, 704, 706, 708, 710, 712, 714, 716, 718, 720, 722, 724, 726, 728, 730, 732, 734, 736, 738, 740, 742, 744, 746, 748, 750, 752, 754, 756, 758, 760, 762, 764, 766, 768, 770, 772, 774, 776, 778, 780, 782, 784, 786, 788, 790, 792, 794, 796, 798, 800, 802, 804, 806, 808, 810, 812, 814, 816, 818, 820, 822, 824, 826, 828, 830, 832, 834, 836, 838, 840, 842, 844, 846, 848, 850, 852, 854, 856, 858, 860, 862, 864, 866, 868, 870, 872, 874, 876, 878, 880, 882, 884, 886, 888, 890, 892, 894, 896, 898, 900, 902, 904, 906, 908, 910, 912, 914, 916, 918, 920, 922, 924, 926, 928, 930, 932, 934, 936, 938, 940, 942, 944, 946, 948, 950, 952, 954, 956, 958, 960, 962, 964, 966, 968, 970, 972, 974, 976, 978, 980, 982, 984, 986, 988, 990, 992, 994, 996, 998]\n"
     ]
    }
   ],
   "source": [
    "my_list = []\n",
    "for number in range(0 , 1000):\n",
    "    if number % 2 == 0:\n",
    "        my_list.append(number)\n",
    "print(my_list)"
   ]
  },
  {
   "cell_type": "code",
   "execution_count": 9,
   "metadata": {},
   "outputs": [
    {
     "name": "stdout",
     "output_type": "stream",
     "text": [
      "[0, 2, 4, 6, 8, 10, 12, 14, 16, 18, 20, 22, 24, 26, 28, 30, 32, 34, 36, 38, 40, 42, 44, 46, 48, 50, 52, 54, 56, 58, 60, 62, 64, 66, 68, 70, 72, 74, 76, 78, 80, 82, 84, 86, 88, 90, 92, 94, 96, 98, 100, 102, 104, 106, 108, 110, 112, 114, 116, 118, 120, 122, 124, 126, 128, 130, 132, 134, 136, 138, 140, 142, 144, 146, 148, 150, 152, 154, 156, 158, 160, 162, 164, 166, 168, 170, 172, 174, 176, 178, 180, 182, 184, 186, 188, 190, 192, 194, 196, 198, 200, 202, 204, 206, 208, 210, 212, 214, 216, 218, 220, 222, 224, 226, 228, 230, 232, 234, 236, 238, 240, 242, 244, 246, 248, 250, 252, 254, 256, 258, 260, 262, 264, 266, 268, 270, 272, 274, 276, 278, 280, 282, 284, 286, 288, 290, 292, 294, 296, 298, 300, 302, 304, 306, 308, 310, 312, 314, 316, 318, 320, 322, 324, 326, 328, 330, 332, 334, 336, 338, 340, 342, 344, 346, 348, 350, 352, 354, 356, 358, 360, 362, 364, 366, 368, 370, 372, 374, 376, 378, 380, 382, 384, 386, 388, 390, 392, 394, 396, 398, 400, 402, 404, 406, 408, 410, 412, 414, 416, 418, 420, 422, 424, 426, 428, 430, 432, 434, 436, 438, 440, 442, 444, 446, 448, 450, 452, 454, 456, 458, 460, 462, 464, 466, 468, 470, 472, 474, 476, 478, 480, 482, 484, 486, 488, 490, 492, 494, 496, 498, 500, 502, 504, 506, 508, 510, 512, 514, 516, 518, 520, 522, 524, 526, 528, 530, 532, 534, 536, 538, 540, 542, 544, 546, 548, 550, 552, 554, 556, 558, 560, 562, 564, 566, 568, 570, 572, 574, 576, 578, 580, 582, 584, 586, 588, 590, 592, 594, 596, 598, 600, 602, 604, 606, 608, 610, 612, 614, 616, 618, 620, 622, 624, 626, 628, 630, 632, 634, 636, 638, 640, 642, 644, 646, 648, 650, 652, 654, 656, 658, 660, 662, 664, 666, 668, 670, 672, 674, 676, 678, 680, 682, 684, 686, 688, 690, 692, 694, 696, 698, 700, 702, 704, 706, 708, 710, 712, 714, 716, 718, 720, 722, 724, 726, 728, 730, 732, 734, 736, 738, 740, 742, 744, 746, 748, 750, 752, 754, 756, 758, 760, 762, 764, 766, 768, 770, 772, 774, 776, 778, 780, 782, 784, 786, 788, 790, 792, 794, 796, 798, 800, 802, 804, 806, 808, 810, 812, 814, 816, 818, 820, 822, 824, 826, 828, 830, 832, 834, 836, 838, 840, 842, 844, 846, 848, 850, 852, 854, 856, 858, 860, 862, 864, 866, 868, 870, 872, 874, 876, 878, 880, 882, 884, 886, 888, 890, 892, 894, 896, 898, 900, 902, 904, 906, 908, 910, 912, 914, 916, 918, 920, 922, 924, 926, 928, 930, 932, 934, 936, 938, 940, 942, 944, 946, 948, 950, 952, 954, 956, 958, 960, 962, 964, 966, 968, 970, 972, 974, 976, 978, 980, 982, 984, 986, 988, 990, 992, 994, 996, 998]\n"
     ]
    }
   ],
   "source": [
    "my_list = [number for number in range(0 , 1000) if number % 2 == 0]\n",
    "print(my_list)"
   ]
  },
  {
   "cell_type": "markdown",
   "metadata": {},
   "source": [
    "### Objects and map()"
   ]
  },
  {
   "cell_type": "markdown",
   "metadata": {},
   "source": [
    "Map applies a function to all the items in an input_list.\n",
    "Map allows us to implement this in a much simpler and nicer way."
   ]
  },
  {
   "cell_type": "markdown",
   "metadata": {},
   "source": [
    "An example of a class in python:"
   ]
  },
  {
   "cell_type": "code",
   "execution_count": 20,
   "metadata": {},
   "outputs": [],
   "source": [
    "class Person:\n",
    "    department = 'Computer Science' #a class variable\n",
    "\n",
    "    def set_name(self, new_name): #a method\n",
    "        self.name = new_name\n",
    "    \n",
    "    def set_location(self, new_location):\n",
    "        self.location = new_location"
   ]
  },
  {
   "cell_type": "code",
   "execution_count": 22,
   "metadata": {},
   "outputs": [
    {
     "name": "stdout",
     "output_type": "stream",
     "text": [
      "Umar Farooq live in Lahore, Pakistan and study in the department of Computer Science\n"
     ]
    }
   ],
   "source": [
    "person = Person()\n",
    "person.set_name('Umar Farooq')\n",
    "person.set_location('Lahore, Pakistan')\n",
    "print('{} live in {} and study in the department of {}'.format(person.name, person.location, person.department))"
   ]
  },
  {
   "cell_type": "markdown",
   "metadata": {},
   "source": [
    "\n",
    "Here's an example of mapping the min function between two lists."
   ]
  },
  {
   "cell_type": "code",
   "execution_count": 23,
   "metadata": {},
   "outputs": [
    {
     "name": "stdout",
     "output_type": "stream",
     "text": [
      "<map object at 0x7f3422f027f0>\n"
     ]
    }
   ],
   "source": [
    "store1 = [1 , 2 , 3 , 4]\n",
    "store2 = [5 , 6 , 7 , 8]\n",
    "cheapest = map(min , store1 , store2)\n",
    "print(cheapest)"
   ]
  },
  {
   "cell_type": "markdown",
   "metadata": {},
   "source": [
    "\n",
    "Now let's iterate through the map object to see the values."
   ]
  },
  {
   "cell_type": "code",
   "execution_count": 24,
   "metadata": {},
   "outputs": [
    {
     "name": "stdout",
     "output_type": "stream",
     "text": [
      "1\n",
      "2\n",
      "3\n",
      "4\n"
     ]
    }
   ],
   "source": [
    "for item in cheapest:\n",
    "    print(item)"
   ]
  },
  {
   "cell_type": "code",
   "execution_count": null,
   "metadata": {},
   "outputs": [],
   "source": []
  }
 ],
 "metadata": {
  "kernelspec": {
   "display_name": "Python 3",
   "language": "python",
   "name": "python3"
  },
  "language_info": {
   "codemirror_mode": {
    "name": "ipython",
    "version": 3
   },
   "file_extension": ".py",
   "mimetype": "text/x-python",
   "name": "python",
   "nbconvert_exporter": "python",
   "pygments_lexer": "ipython3",
   "version": "3.5.5"
  }
 },
 "nbformat": 4,
 "nbformat_minor": 2
}
